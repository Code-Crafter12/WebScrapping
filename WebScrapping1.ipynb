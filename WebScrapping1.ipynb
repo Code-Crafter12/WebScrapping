{
 "cells": [
  {
   "cell_type": "code",
   "execution_count": 1,
   "id": "81a2e955-1499-4edf-9ee2-7d2cfc29cf3b",
   "metadata": {},
   "outputs": [
    {
     "name": "stdout",
     "output_type": "stream",
     "text": [
      "Note: you may need to restart the kernel to use updated packages.\n"
     ]
    },
    {
     "name": "stderr",
     "output_type": "stream",
     "text": [
      "ERROR: Could not find a version that satisfies the requirement smtplib (from versions: none)\n",
      "ERROR: No matching distribution found for smtplib\n"
     ]
    }
   ],
   "source": [
    "pip install smtplib"
   ]
  },
  {
   "cell_type": "code",
   "execution_count": 3,
   "id": "a5e2cc10-dfb5-4464-be69-81d40e6ef277",
   "metadata": {},
   "outputs": [
    {
     "name": "stdout",
     "output_type": "stream",
     "text": [
      "Note: you may need to restart the kernel to use updated packages.\n"
     ]
    },
    {
     "name": "stderr",
     "output_type": "stream",
     "text": [
      "ERROR: Could not find a version that satisfies the requirement time (from versions: none)\n",
      "ERROR: No matching distribution found for time\n"
     ]
    }
   ],
   "source": [
    "pip install time"
   ]
  },
  {
   "cell_type": "code",
   "execution_count": 5,
   "id": "056d2e3d-264a-4cca-bd40-ef5ef93a7c26",
   "metadata": {},
   "outputs": [
    {
     "name": "stdout",
     "output_type": "stream",
     "text": [
      "Collecting datetime\n",
      "  Downloading DateTime-5.5-py3-none-any.whl.metadata (33 kB)\n",
      "Requirement already satisfied: zope.interface in c:\\users\\au traders\\anaconda3\\lib\\site-packages (from datetime) (5.4.0)\n",
      "Requirement already satisfied: pytz in c:\\users\\au traders\\anaconda3\\lib\\site-packages (from datetime) (2024.1)\n",
      "Requirement already satisfied: setuptools in c:\\users\\au traders\\anaconda3\\lib\\site-packages (from zope.interface->datetime) (69.5.1)\n",
      "Downloading DateTime-5.5-py3-none-any.whl (52 kB)\n",
      "   ---------------------------------------- 0.0/52.6 kB ? eta -:--:--\n",
      "   ---------------------------------------- 0.0/52.6 kB ? eta -:--:--\n",
      "   ---------------------------------------- 0.0/52.6 kB ? eta -:--:--\n",
      "   ---------------------------------------- 0.0/52.6 kB ? eta -:--:--\n",
      "   ---------------------------------------- 0.0/52.6 kB ? eta -:--:--\n",
      "   ---------------------------------------- 0.0/52.6 kB ? eta -:--:--\n",
      "   ---------------------------------------- 0.0/52.6 kB ? eta -:--:--\n",
      "   ---------------------------------------- 0.0/52.6 kB ? eta -:--:--\n",
      "   ---------------------------------------- 52.6/52.6 kB 1.4 MB/s eta 0:00:00\n",
      "Installing collected packages: datetime\n",
      "Successfully installed datetime-5.5\n",
      "Note: you may need to restart the kernel to use updated packages.\n"
     ]
    }
   ],
   "source": [
    "pip install datetime"
   ]
  },
  {
   "cell_type": "code",
   "execution_count": 7,
   "id": "09c2fdc2-3f76-4d8e-8253-87b07a5e2373",
   "metadata": {},
   "outputs": [],
   "source": [
    "# import libraries\n",
    "from bs4 import BeautifulSoup\n",
    "import requests\n",
    "import smtplib\n",
    "import time\n",
    "import datetime\n"
   ]
  },
  {
   "cell_type": "code",
   "execution_count": 13,
   "id": "267aedc8-bc35-4e41-a6bd-c3e48e3df958",
   "metadata": {},
   "outputs": [
    {
     "ename": "SyntaxError",
     "evalue": "invalid syntax (2208656088.py, line 16)",
     "output_type": "error",
     "traceback": [
      "\u001b[1;36m  Cell \u001b[1;32mIn[13], line 16\u001b[1;36m\u001b[0m\n\u001b[1;33m    rating = soup2.find(class ='a-size-base a-colour-base').get_text()\u001b[0m\n\u001b[1;37m                        ^\u001b[0m\n\u001b[1;31mSyntaxError\u001b[0m\u001b[1;31m:\u001b[0m invalid syntax\n"
     ]
    }
   ],
   "source": [
    "# connect to websites\n",
    "import requests\n",
    "URL='https://www.amazon.com/Crock-Pot-SCV700SS-Stainless-7-Quart-Manual/dp/B003OAJGJO/ref=sr_1_3?_encoding=UTF8&content-id=amzn1.sym.2f889ce0-246f-467a-a086-d9a721167240&dib=eyJ2IjoiMSJ9.aaPlq4vdn5Or6TF2M0KOuM65HjwdOi2wiAUAngSzFhxOUhtKIirHUV0FhlyNQbD5e4AY_GyflOeykOM7WGWIkkb0gIuJPqBh022lPNwNkuq1YgkGqxoqpqXrL9zzIyOrix7_IBp_f26dPcvCIfh2CHL8J4BHrcneinhUK2Gm7wsBkNTTf1__pKcBMAmwNwGlw5fu8RzYa0jyvI1d7rbb_o583902qYUEgflhXs-sVXM.4z1g9RAmskL5r90l3PZZKrNtNxTlsapxPAcLdaJ-_kg&dib_tag=se&keywords=cooker&pd_rd_r=fa5fc9a6-a6c2-47da-985d-cfaef132a879&pd_rd_w=Iuoxr&pd_rd_wg=20bi8&pf_rd_p=2f889ce0-246f-467a-a086-d9a721167240&pf_rd_r=EF2DKV6N2CP15BQQHZ2H&qid=1727639613&sr=8-3'\n",
    "\n",
    "headers = ({'User-Agent': 'Mozilla/5.0 (Windows NT 10.0; Win64; x64) AppleWebKit/537.36 (KHTML, like Gecko) Chrome/129.0.0.0 Safari/537.36', 'Accept-Language':'en-US, en;q=0.5'})\n",
    "\n",
    "page = requests.get(URL, headers=headers)\n",
    "\n",
    "soup1 = BeautifulSoup(page.content, \"html.parser\")\n",
    "\n",
    "soup2 = BeautifulSoup(soup1.prettify(),\"html.parser\")\n",
    "\n",
    "title = soup2.find(id = 'productTitle').get_text()\n",
    "\n",
    "rating = soup2.find(id ='acrPopover').get_text()\n",
    "\n",
    "print(title)\n",
    "\n",
    "print(rating)"
   ]
  },
  {
   "cell_type": "code",
   "execution_count": null,
   "id": "872ae847-9f61-4c98-86e6-fd78bbcb3b56",
   "metadata": {},
   "outputs": [],
   "source": [
    "title = title.strip()\n",
    "rating = rating.strip()\n",
    "\n",
    "print(title)\n",
    "print(rating)"
   ]
  },
  {
   "cell_type": "code",
   "execution_count": 15,
   "id": "b8e73f86-06fe-4866-8f75-97a35edf6302",
   "metadata": {},
   "outputs": [
    {
     "name": "stdout",
     "output_type": "stream",
     "text": [
      "2024-09-29\n"
     ]
    }
   ],
   "source": [
    "import datetime\n",
    "today = datetime.date.today()\n",
    "\n",
    "print(today)"
   ]
  },
  {
   "cell_type": "code",
   "execution_count": 25,
   "id": "5a87d3ab-5e49-4064-a101-e6fd32d70dee",
   "metadata": {},
   "outputs": [
    {
     "name": "stdout",
     "output_type": "stream",
     "text": [
      "Note: you may need to restart the kernel to use updated packages.\n"
     ]
    },
    {
     "name": "stderr",
     "output_type": "stream",
     "text": [
      "ERROR: Could not find a version that satisfies the requirement csv (from versions: none)\n",
      "ERROR: No matching distribution found for csv\n"
     ]
    }
   ],
   "source": [
    "pip install csv"
   ]
  },
  {
   "cell_type": "code",
   "execution_count": 46,
   "id": "a455de65-771e-48fc-81a7-c3ccf68f2153",
   "metadata": {},
   "outputs": [],
   "source": [
    "import csv\n",
    "\n",
    "header=['Title', 'Rating', 'Date']\n",
    "data=[title, rating, today]\n",
    "\n",
    "with open('AmazonWebScrapperDataset.csv', 'w', newline='', encoding='UTF-8') as f:\n",
    "    writer = csv.writer(f)\n",
    "    writer.writerow(header)\n",
    "    writer.writerow(data)\n",
    "    \n"
   ]
  },
  {
   "cell_type": "code",
   "execution_count": 38,
   "id": "8da9e375-90dc-4ae8-8873-67c914356dad",
   "metadata": {},
   "outputs": [
    {
     "name": "stdout",
     "output_type": "stream",
     "text": [
      "                                               Title  \\\n",
      "0  Crock-Pot 7 Quart Oval Manual Slow Cooker, Sta...   \n",
      "1  Crock-Pot 7 Quart Oval Manual Slow Cooker, Sta...   \n",
      "2  Crock-Pot 7 Quart Oval Manual Slow Cooker, Sta...   \n",
      "3  Crock-Pot 7 Quart Oval Manual Slow Cooker, Sta...   \n",
      "4  Crock-Pot 7 Quart Oval Manual Slow Cooker, Sta...   \n",
      "\n",
      "                                              Rating        Date  \n",
      "0  4.7\\n               \\n\\n\\n                 4.7...  2024-09-29  \n",
      "1  4.7\\n               \\n\\n\\n                 4.7...  2024-09-29  \n",
      "2  4.7\\n               \\n\\n\\n                 4.7...  2024-09-29  \n",
      "3  4.7\\n               \\n\\n\\n                 4.7...  2024-09-29  \n",
      "4  4.7\\n               \\n\\n\\n                 4.7...  2024-09-29  \n"
     ]
    }
   ],
   "source": [
    "import pandas as pd\n",
    "df = pd.read_csv(r'C:\\Users\\AU TRADERS\\AmazonWebScrapperDataset.csv')\n",
    "print(df)"
   ]
  },
  {
   "cell_type": "code",
   "execution_count": 48,
   "id": "82539507-00fe-4a9c-8e4c-0469a1cd64a8",
   "metadata": {},
   "outputs": [],
   "source": [
    "# show we are appending data to csv\n",
    "\n",
    "with open('AmazonWebScrapperDataset.csv', 'a+', newline='', encoding='UTF-8') as f:\n",
    "    writer = csv.writer(f)\n",
    "    writer.writerow(data)\n"
   ]
  },
  {
   "cell_type": "code",
   "execution_count": null,
   "id": "93bc64d0-95c0-468b-8cb8-23506c26611e",
   "metadata": {},
   "outputs": [],
   "source": [
    "# combine all of the code into one function\n",
    "\n",
    "def check_rating():\n",
    "    URL = 'https://www.amazon.com/Crock-Pot-SCV700SS-Stainless-7-Quart-Manual/dp/B003OAJGJO/ref=sr_1_3?_encoding=UTF8&content-id=amzn1.sym.2f889ce0-246f-467a-a086-d9a721167240&dib=eyJ2IjoiMSJ9.aaPlq4vdn5Or6TF2M0KOuM65HjwdOi2wiAUAngSzFhxOUhtKIirHUV0FhlyNQbD5e4AY_GyflOeykOM7WGWIkkb0gIuJPqBh022lPNwNkuq1YgkGqxoqpqXrL9zzIyOrix7_IBp_f26dPcvCIfh2CHL8J4BHrcneinhUK2Gm7wsBkNTTf1__pKcBMAmwNwGlw5fu8RzYa0jyvI1d7rbb_o583902qYUEgflhXs-sVXM.4z1g9RAmskL5r90l3PZZKrNtNxTlsapxPAcLdaJ-_kg&dib_tag=se&keywords=cooker&pd_rd_r=fa5fc9a6-a6c2-47da-985d-cfaef132a879&pd_rd_w=Iuoxr&pd_rd_wg=20bi8&pf_rd_p=2f889ce0-246f-467a-a086-d9a721167240&pf_rd_r=EF2DKV6N2CP15BQQHZ2H&qid=1727639613&sr=8-3'\n",
    "\n",
    "    headers = ({'User-Agent': 'Mozilla/5.0 (Windows NT 10.0; Win64; x64) AppleWebKit/537.36 (KHTML, like Gecko) Chrome/129.0.0.0 Safari/537.36', 'Accept-Language':'en-US, en;q=0.5'})\n",
    "\n",
    "    page = requests.get(URL, headers=headers)\n",
    "\n",
    "    soup1 = BeautifulSoup(page.content, \"html.parser\")\n",
    "\n",
    "    soup2 = BeautifulSoup(soup1.prettify(), \"html.parser\")\n",
    "\n",
    "    title = soup2.find(id='productTitle').get_text()\n",
    "\n",
    "    rating = soup2.find(id='acrPopover').get_text()\n",
    "\n",
    "    rating = rating.strip()\n",
    "    title = title.strip()\n",
    "\n",
    "    import datetime\n",
    "\n",
    "    today = datetime.date.today()\n",
    "    \n",
    "    import csv \n",
    "\n",
    "    header = ['Title', 'Rating', 'Date']\n",
    "    data = [title, rating, today]\n",
    "\n",
    "    with open('AmazonWebScrapperDataset.csv', 'a+', newline='', encoding='UTF8') as f:\n",
    "        writer = csv.writer(f)\n",
    "        writer.writerow(data)"
   ]
  },
  {
   "cell_type": "code",
   "execution_count": null,
   "id": "793230a4-2816-402a-8f11-db6231217ff9",
   "metadata": {},
   "outputs": [],
   "source": [
    " # Runs check_price after a set time and inputs data into your CSV\n",
    "\n",
    "while(True):\n",
    "    check_price()\n",
    "    time.sleep(86400)"
   ]
  },
  {
   "cell_type": "code",
   "execution_count": null,
   "id": "e6b8c018-7e1b-46a3-a472-ac9434f5fc2b",
   "metadata": {},
   "outputs": [],
   "source": [
    "import pandas as pd\n",
    "df = pd.read_csv(r'C:\\Users\\AU TRADERS\\AmazonWebScrapperDataset.csv')\n",
    "print(df)"
   ]
  },
  {
   "cell_type": "code",
   "execution_count": null,
   "id": "a9bbc185-f737-4af9-94bd-6b695ca9d79c",
   "metadata": {},
   "outputs": [],
   "source": []
  }
 ],
 "metadata": {
  "kernelspec": {
   "display_name": "Python 3 (ipykernel)",
   "language": "python",
   "name": "python3"
  },
  "language_info": {
   "codemirror_mode": {
    "name": "ipython",
    "version": 3
   },
   "file_extension": ".py",
   "mimetype": "text/x-python",
   "name": "python",
   "nbconvert_exporter": "python",
   "pygments_lexer": "ipython3",
   "version": "3.12.4"
  }
 },
 "nbformat": 4,
 "nbformat_minor": 5
}
